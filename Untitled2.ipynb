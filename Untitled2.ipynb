{
 "cells": [
  {
   "cell_type": "code",
   "execution_count": 1,
   "id": "5b37bc38",
   "metadata": {},
   "outputs": [],
   "source": [
    "import numpy as np"
   ]
  },
  {
   "cell_type": "code",
   "execution_count": 7,
   "id": "1a40ca89",
   "metadata": {},
   "outputs": [
    {
     "name": "stdout",
     "output_type": "stream",
     "text": [
      "vecteur = [0 1 2 3]\n"
     ]
    }
   ],
   "source": [
    "#créer un tableau à une dimension\n",
    "vecteur = np.array([0,1,2,3])\n",
    "print(f'vecteur = {vecteur}')"
   ]
  },
  {
   "cell_type": "code",
   "execution_count": 3,
   "id": "6bf35722",
   "metadata": {},
   "outputs": [
    {
     "name": "stdout",
     "output_type": "stream",
     "text": [
      "vecteur_2d= \n",
      "[[0 1 2]\n",
      " [3 5 6]]\n",
      "vecteur_3d= [[[ 0  1  2  3]\n",
      "  [ 4  5  6  7]\n",
      "  [ 8  9 10 11]]\n",
      "\n",
      " [[ 0  1  2  3]\n",
      "  [ 4  5  6  7]\n",
      "  [ 8  9 10 11]]]\n"
     ]
    }
   ],
   "source": [
    "#créer un tableau à plusieurs dimensions\n",
    "vecteur_2d = np.array([[0,1,2],[3,5,6]])\n",
    "print(f'vecteur_2d= \\n{vecteur_2d}')\n",
    "vecteur_3d = np.array([[[0,1,2,3],[4,5,6,7],[8,9,10,11]],[[0,1,2,3],[4,5,6,7],[8,9,10,11]]])\n",
    "print(f'vecteur_3d= {vecteur_3d}')"
   ]
  },
  {
   "cell_type": "code",
   "execution_count": 8,
   "id": "0075cecd",
   "metadata": {},
   "outputs": [
    {
     "name": "stdout",
     "output_type": "stream",
     "text": [
      "Le nombre de dimensions de vecteur est 1.\n",
      "Les dimensions de vecteur est (4,).\n",
      "Le nombre de dimensions de vecteur_3d est 3.\n",
      "Les dimensions de vecteur_3d est (2, 3, 4).\n",
      "vecteur_3d= [[[ 0  1  2  3]\n",
      "  [ 4  5  6  7]\n",
      "  [ 8  9 10 11]]\n",
      "\n",
      " [[ 0  1  2  3]\n",
      "  [ 4  5  6  7]\n",
      "  [ 8  9 10 11]]]\n",
      "Le tableau vecteur_3d contient 2 matrices.\n",
      "Chacune de ses matrices est définie par 3 lignes.\n",
      "Chacune des lignes des deux matrices est définie par 4 colonnes.\n"
     ]
    }
   ],
   "source": [
    "#dimensions d'un tableau\n",
    "vecteur = np.array([0,1,2,3])\n",
    "print(f'Le nombre de dimensions de vecteur est {vecteur.ndim}.')\n",
    "print(f'Les dimensions de vecteur est {vecteur.shape}.')\n",
    "print(f'Le nombre de dimensions de vecteur_3d est {vecteur_3d.ndim}.')\n",
    "print(f'Les dimensions de vecteur_3d est {vecteur_3d.shape}.')\n",
    "print(f'vecteur_3d= {vecteur_3d}')\n",
    "print(f'Le tableau vecteur_3d contient {vecteur_3d.shape[0]} matrices.') \n",
    "print(f'Chacune de ses matrices est définie par {vecteur_3d.shape[1]} lignes.')\n",
    "print(f'Chacune des lignes des deux matrices est définie par {vecteur_3d.shape[2]} colonnes.')\n"
   ]
  },
  {
   "cell_type": "code",
   "execution_count": 5,
   "id": "13650887",
   "metadata": {},
   "outputs": [
    {
     "name": "stdout",
     "output_type": "stream",
     "text": [
      "Le type de vect_1 est : <class 'numpy.ndarray'>.\n",
      "Le type de vect_2 est : <class 'numpy.ndarray'>.\n",
      "Le type de vect_3 est : <class 'numpy.ndarray'>.\n",
      "Le type des éléments de vect_1 est : int16.\n",
      "Le type des éléments de vect_2 est : int32.\n",
      "Le type des éléments de vect_3 est : float64.\n",
      "Le nombre d'éléments dans vect_1 : 3.\n",
      "Le nombre d'éléments dans vect_2 : 6.\n",
      "Le nombre d'éléments dans vect_3 : 3.\n"
     ]
    }
   ],
   "source": [
    "#type et taille d'un tableau \n",
    "vect_1 = np.array([1, 2, 3],dtype='int16')\n",
    "vect_2 = np.array([[1, 2, 3],[1, 2, 3]],dtype='int32')\n",
    "vect_3 = np.array([1, 2, 3],dtype='float')\n",
    "print(f\"Le type de vect_1 est : {type(vect_1)}.\")\n",
    "print(f\"Le type de vect_2 est : {type(vect_2)}.\")\n",
    "print(f\"Le type de vect_3 est : {type(vect_3)}.\")\n",
    "\n",
    "print(f\"Le type des éléments de vect_1 est : {vect_1.dtype}.\")\n",
    "print(f\"Le type des éléments de vect_2 est : {vect_2.dtype}.\")\n",
    "print(f\"Le type des éléments de vect_3 est : {vect_3.dtype}.\")\n",
    "\n",
    "print(f\"Le nombre d'éléments dans vect_1 : {vect_1.size}.\")\n",
    "print(f\"Le nombre d'éléments dans vect_2 : {vect_2.size}.\")\n",
    "print(f\"Le nombre d'éléments dans vect_3 : {vect_3.size}.\")\n"
   ]
  },
  {
   "cell_type": "code",
   "execution_count": 9,
   "id": "b5602dce",
   "metadata": {},
   "outputs": [
    {
     "name": "stdout",
     "output_type": "stream",
     "text": [
      "vect_1 = \n",
      "[0. 0. 0. 0. 0. 0. 0. 0. 0. 0.]\n",
      "vect_2 = \n",
      "[0 0 0 0 0 0 0 0 0 0]\n",
      "vect_3 = \n",
      "[[1 1 1 1]\n",
      " [1 1 1 1]\n",
      " [1 1 1 1]]\n",
      "vect_4 = \n",
      "[[5 5 5 5]\n",
      " [5 5 5 5]\n",
      " [5 5 5 5]]\n",
      "vect_5 = \n",
      "[[10 10 10 10]\n",
      " [10 10 10 10]\n",
      " [10 10 10 10]]\n",
      "vect_6 = \n",
      "[[1. 0. 0.]\n",
      " [0. 1. 0.]\n",
      " [0. 0. 1.]]\n",
      "vect_7 = \n",
      "[[ 0.08341644  1.78830591  0.0847555  -0.41792472]\n",
      " [-0.31463833 -0.22698267  0.65341558  0.09681923]\n",
      " [ 1.08968796  0.45588109 -0.17388473 -0.53211249]]\n",
      "vect_8 = \n",
      "[ 0.          0.52631579  1.05263158  1.57894737  2.10526316  2.63157895\n",
      "  3.15789474  3.68421053  4.21052632  4.73684211  5.26315789  5.78947368\n",
      "  6.31578947  6.84210526  7.36842105  7.89473684  8.42105263  8.94736842\n",
      "  9.47368421 10.        ]\n",
      "vect_9 = \n",
      "[0.  0.5 1.  1.5 2.  2.5 3.  3.5 4.  4.5 5.  5.5 6.  6.5 7.  7.5 8.  8.5\n",
      " 9.  9.5]\n"
     ]
    }
   ],
   "source": [
    "#Fonction d'initialisation de tableau\n",
    "vect_1 = np.zeros(10)\n",
    "vect_2 = np.zeros(10, dtype='int32')\n",
    "vect_3 = np.ones((3,4),dtype='int16')\n",
    "vect_4 = np.full((3,4),5)\n",
    "vect_5 = np.full_like(vect_4, 10)\n",
    "vect_6 = np.identity(3)\n",
    "vect_7 = np.random.randn(3,4)\n",
    "vect_8 = np.linspace(0, 10, 20)\n",
    "vect_9 = np.arange(0,10,0.5)\n",
    "vect_list = [vect_1, vect_2, vect_3, vect_4, vect_5, vect_6, vect_7, vect_8, vect_9]\n",
    "i = 1\n",
    "for vect in vect_list:\n",
    "    print(f\"vect_{i} = \\n{vect}\")\n",
    "    i+=1"
   ]
  },
  {
   "cell_type": "code",
   "execution_count": 10,
   "id": "3b19fb6f",
   "metadata": {},
   "outputs": [
    {
     "name": "stdout",
     "output_type": "stream",
     "text": [
      "vect = [ 0  1  4  9 16 25 36 49 64 81]\n",
      "vect[1] = 1\n",
      "vect[[1,5]] = [ 1 25]\n",
      "vect[[0,-1]] = [ 0 81]\n",
      "vect[2:6] = [ 4  9 16 25]\n",
      "vect[2:] = [ 4  9 16 25 36 49 64 81]\n",
      "vect[0:10:2] = [ 0  4 16 36 64]\n"
     ]
    }
   ],
   "source": [
    "#accéder aux données d'un tableau à une dimension\n",
    "liste = [i**2 for i in range(10)]\n",
    "vect = np.array(liste)\n",
    "print(f\"vect = {vect}\")\n",
    "print(f\"vect[1] = {vect[1]}\")\n",
    "print(f\"vect[[1,5]] = {vect[[1,5]]}\")\n",
    "print(f\"vect[[0,-1]] = {vect[[0,-1]]}\")\n",
    "print(f\"vect[2:6] = {vect[2:6]}\")\n",
    "print(f\"vect[2:] = {vect[2:]}\")\n",
    "print(f\"vect[0:10:2] = {vect[0:10:2]}\")\n",
    "\n"
   ]
  },
  {
   "cell_type": "code",
   "execution_count": 11,
   "id": "e7b5c8ac",
   "metadata": {},
   "outputs": [
    {
     "name": "stdout",
     "output_type": "stream",
     "text": [
      "vect = \n",
      "[[[ 1  2  3]\n",
      "  [ 4  5  6]]\n",
      "\n",
      " [[ 7  8  9]\n",
      "  [10 11 12]]]\n",
      "vect[0] = \n",
      "[[1 2 3]\n",
      " [4 5 6]]\n",
      "vect[0,1] = [4 5 6]\n",
      "vect[0,1,2] = 6\n",
      "vect[:,:,2] = \n",
      "[[ 3  6]\n",
      " [ 9 12]]\n",
      "vect[0,:,1] = [2 5]\n",
      "vect[0,1,:] = [4 5 6]\n"
     ]
    }
   ],
   "source": [
    "#accéder aux données d'un tableau à deux dimensions\n",
    "vect = np.array([[[1, 2, 3],[4, 5, 6]],\n",
    "                 [[7, 8, 9],[10, 11, 12]]])\n",
    "print(f\"vect = \\n{vect}\")\n",
    "print(f\"vect[0] = \\n{vect[0]}\")\n",
    "print(f\"vect[0,1] = {vect[0,1]}\")\n",
    "print(f\"vect[0,1,2] = {vect[0,1,2]}\")\n",
    "print(f\"vect[:,:,2] = \\n{vect[:,:,2]}\")\n",
    "print(f\"vect[0,:,1] = {vect[0,:,1]}\")\n",
    "print(f\"vect[0,1,:] = {vect[0,1,:]}\")"
   ]
  },
  {
   "cell_type": "code",
   "execution_count": null,
   "id": "4bd480ba",
   "metadata": {},
   "outputs": [],
   "source": []
  }
 ],
 "metadata": {
  "kernelspec": {
   "display_name": "envDecisionTree",
   "language": "python",
   "name": "envdecisiontree"
  },
  "language_info": {
   "codemirror_mode": {
    "name": "ipython",
    "version": 3
   },
   "file_extension": ".py",
   "mimetype": "text/x-python",
   "name": "python",
   "nbconvert_exporter": "python",
   "pygments_lexer": "ipython3",
   "version": "3.8.10"
  }
 },
 "nbformat": 4,
 "nbformat_minor": 5
}
